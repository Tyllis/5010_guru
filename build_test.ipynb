{
 "cells": [
  {
   "cell_type": "code",
   "execution_count": 32,
   "id": "38c9de8d-f31f-4c02-bd68-ae3b38eaa52d",
   "metadata": {},
   "outputs": [],
   "source": [
    "import os\n",
    "import getpass\n",
    "import glob\n",
    "import pypdf\n",
    "import random\n",
    "from openai import OpenAI\n",
    "from langchain.document_loaders import PyPDFLoader"
   ]
  },
  {
   "cell_type": "code",
   "execution_count": 35,
   "id": "54fdfa70-b699-4418-9a94-84a43c6db27f",
   "metadata": {},
   "outputs": [
    {
     "name": "stdin",
     "output_type": "stream",
     "text": [
      "OpenAI API Key: ········\n"
     ]
    }
   ],
   "source": [
    "os.environ[\"OPENAI_API_KEY\"] = getpass.getpass(\"OpenAI API Key:\")\n",
    "client = OpenAI(api_key=os.environ.get(\"OPENAI_API_KEY\"))"
   ]
  },
  {
   "cell_type": "code",
   "execution_count": 62,
   "id": "60e431da-4d51-4f91-8cb5-ca38547085f6",
   "metadata": {},
   "outputs": [],
   "source": [
    "file_path = 'pdf/C9070_1G_FINAL_circular_4-20-15(1).pdf'\n",
    "reader = pypdf.PdfReader(file_path)\n",
    "texts = ''.join([page.extract_text() for page in reader.pages])\n",
    "num_char = len(texts)"
   ]
  },
  {
   "cell_type": "code",
   "execution_count": null,
   "id": "47f561fa-d342-4203-9bed-36eec353a68f",
   "metadata": {},
   "outputs": [],
   "source": []
  },
  {
   "cell_type": "code",
   "execution_count": 63,
   "id": "2cb4f950-4494-4316-8d4c-54dd194b3aa4",
   "metadata": {},
   "outputs": [
    {
     "data": {
      "text/plain": [
       "(331965, 24395)"
      ]
     },
     "execution_count": 63,
     "metadata": {},
     "output_type": "execute_result"
    }
   ],
   "source": [
    "rand = random.randint(0, num_char)\n",
    "num_char, rand"
   ]
  },
  {
   "cell_type": "code",
   "execution_count": null,
   "id": "f2b28c64-933c-468b-8410-99ef802f15ed",
   "metadata": {},
   "outputs": [],
   "source": []
  },
  {
   "cell_type": "code",
   "execution_count": 66,
   "id": "b01c2a2f-7289-4efa-ae0b-0205fbdeaa84",
   "metadata": {},
   "outputs": [
    {
     "name": "stdout",
     "output_type": "stream",
     "text": [
      "\n",
      "Given the following context inside the triple hashtag, generate 10 questions. Provide the answer. Respond in following format:\n",
      "- Question:\n",
      "- Answer:\n",
      "###\n",
      "c transit -human services \n",
      "transportation plan is intended to improve services for people with disabilities  and \n",
      "seniors . Therefore, individuals, groups, and organizations representing these target \n",
      "populations should be invited to participate in the coordinated planning process.  \n",
      "Consideration should be given to including groups and organizations such as the \n",
      "followi ng in the coordinated planning process if present in the community:   \n",
      "(1) Transportation partners :  \n",
      "(a) Area transportation planning agencies, including MPOs , councils of government \n",
      "(COGs) , rural planning organizations (RPOs) , regional councils, associations of \n",
      "governments , state departments of transportation , and local governments;  \n",
      "(b) Public transportation providers, including ADA  paratransit providers and agencies \n",
      "administering the projects funded under FTA urbanized and rural programs ;  \n",
      "(c) Private transportation providers, including private transportation brokers, taxi \n",
      "operators, vanpool providers, school transportation operators, and intercity bus \n",
      "operators;  \n",
      "(d) Nonprofit transportation providers , including volunteer programs ;  Page V—6  FTA C 9070.1G  \n",
      "  07/07/2014  \n",
      " \n",
      "  \n",
      " \n",
      " (e) Past or current organizations funded under the Section 5310, JARC , and/or the \n",
      "New Freedom programs ; and  \n",
      "(f) Human service agencies funding, operating, and/or providing access to \n",
      "transportation services.   \n",
      "(2) Passengers and advocates :  \n",
      "(a) Existing and potential riders, including both general and targeted population \n",
      "passengers (individuals with disabilities  and seniors );  \n",
      "(b) Protection and advocacy organizations;  \n",
      "(c) Representatives from independent living centers; and  \n",
      "(d) Advocacy organizations working on behalf of targeted populations.   \n",
      "(3) Human service partners :  \n",
      "(a) Agencies that administer health, employment, or other support programs for \n",
      "targeted populations.  Examples of s uch agencies include but are not limited to \n",
      "departments of social/ human services, employment one-stop services, vocational \n",
      "rehabilitation, workforce investment boards, Medicaid, community action \n",
      "programs (CAP), Agency on Aging (AoA) , Developmental Disabili ty Council, \n",
      "community services board;  \n",
      "(b) Nonprofit human service provider organizations that serve the targeted \n",
      "populations;  \n",
      "(c) Job training and placement agencies;  \n",
      "(d) Housing agencies;  \n",
      "(e) Health care facilities; and  \n",
      "(f) Mental  health agencies.   \n",
      "(4) Other :  \n",
      "(a) Security  and emergency management agencies;  \n",
      "(b) Tribes  and tribal representatives;  \n",
      "(c) Economic development organizations;  \n",
      "(d) Faith -based and community -based organizations;  FTA C 9070.1G  Page V—7 \n",
      "07/07/2014  \n",
      " \n",
      " \n",
      " \n",
      "(e) Representatives  of the business community (e.g., employers);  \n",
      "(f) Appropriate  local or state officials  and elected officials;  \n",
      "(g) School  districts; and  \n",
      "(h) Policy  analysts or experts.   \n",
      "Note:  Participation in the planning process will not bar providers (public or private) from \n",
      "bidding to provide services identified in the coordinated planning process . This pla nning \n",
      "process differs from the project  selection process , and it differs from the development and \n",
      "issuance of a request for proposal (RFP)  as described in the common grant rule  (49 CFR \n",
      "part 18  and part 19 ).  \n",
      "c. Levels of Participation . The suggested list of participants above does not limit \n",
      "participation by other groups, nor require participation by every group listed.  \n",
      "Communities will have different types of participants depending on population and size \n",
      "of community, geographic location, and services provided at the local level.  FTA expects \n",
      "that planning participants will have an active role in the development, approval, adoption, \n",
      "and implementation of the plan.  Participation may remain low even though a good faith \n",
      "effort is made by the lead agency to involve passengers ; representat ives of public, \n",
      "private, and nonprofit transportation and human services providers ; and others.  The lead \n",
      "agency convening the coordinated planning process should document the efforts it \n",
      "utilized, such as those suggested above, to solicit involvement.   \n",
      "In addition, federal, state, regional, and local policy makers, providers, and advocates \n",
      "should consistently engage in outreach efforts that enhance the coordinated process \n",
      "because it is important that all stakeholders identify the opportunities that are a vailable in \n",
      "building a coordinated system.  To increase participation at the local levels from human \n",
      "service partners, state department of transportation offices are encouraged to work with \n",
      "their partner agen cies at the state level to provide information to their constituencies \n",
      "about the importance of partnering with human service transportation programs and the \n",
      "opportunities that are available through building a coordinated system.   \n",
      "d. Adoption of a Plan . As a p art of the local coordinated planning process, the lead agency \n",
      "in consultation with participants should identify the process for approving and adopting \n",
      "the plan , and this process must include participation by stakeholders identified in the law: \n",
      "seniors ; individuals with disabilities ; representatives of public, private, and nonprofit \n",
      "transportation and human service providers ; and other members of the public . A strategy \n",
      "for adopting the plan could also be included in the state’s SMP and the designated \n",
      "recipient’s PMP , further described in Chapter VII.   \n",
      "FTA will not formally review and approve coordinated plans.  The recipient ’s grant \n",
      "application (see Appendix A) will document the plan from which each project listed is \n",
      "included , including the lead agency, the date of adoption of the plan, or other appropriate Page V—8  FTA C 9070.1G  \n",
      "  07/07/2014  \n",
      " \n",
      "  \n",
      " \n",
      " identifying information.  This may be done by citing the section of the plan or page \n",
      "references from which the project is included .  \n",
      "4. RELATIONSHIP TO OTHER TRANSPORTATION  PLANNING PROCESSES . \n",
      "a. Relationship Between the Coordinated Planning Process  and the Metropolitan and \n",
      "Statewide Transportation Planning Processes . The coordinated plan may either be \n",
      "developed separately from the metropolitan and statewide transportation planning \n",
      "processes and then incorporated into the broader plans, or be developed as a part of the \n",
      "metropolitan and statewide transportation planning processes.  If the coordinated plan is \n",
      "not prepared within the  broader process, the lead agency for the coordinated plan should \n",
      "ensure coordination and consistency between the coordinated planning process and \n",
      "metropolitan or statewide planning processes.  For example, planning assumptions should \n",
      "not be inconsistent.   \n",
      "Projects identified in the coordinated planning process and selected for FTA funding \n",
      "must be incorporated into both the TIP and STIP in UZA s with populations of 50,000 or \n",
      "more; and incorporated into the STIP for rural areas under 50,000 in population.  \n",
      "Depe nding on the projects resulting from the coordinated planning and selection process, \n",
      "a single line item on the TIP/STIP for capital or operating projects may be sufficient. \n",
      "However, given the expanded project and subrecipient eligibility under MAP -21, a \n",
      "designated recipient and state may need to consider more detailed programming, such as \n",
      "categorizing the projects based on the types of projects (capital or operating) and/or types \n",
      "of subrecipients, e.g., nonprofit, public entity, etc.  \n",
      "In some areas, where th e coordinated plan or project selection is not completed in a time  \n",
      "frame that coincides with the development of the TIP/STIP, the TIP/STIP amendment \n",
      "processes will need to be utilized to include selected projects in the TIP/STIP before FTA \n",
      "grant award.  \n",
      "The lead agency developing the coordinated plan should communicate with the relevant \n",
      "MPOs , state departments of transportation  or regional  planning agencies at an early stage \n",
      "in plan development.  States with co ordination programs may wish to incorporate the \n",
      "needs and strategies identified in local coordinated plans into statewide coordination \n",
      "plans.   \n",
      "Depending upon the structure established by local decision  makers, the coordinated \n",
      "planning process may or may no t become an integral part of the metropolitan or statewide \n",
      "transportation planning processes.  State and local officials should consider the \n",
      "fundamental differences in scope, time horizon, and level of detail between the \n",
      "coordinated planning process and the  metropolitan and statewide transportation planning \n",
      "processes.  However, there are important areas of overlap between the planning processes, \n",
      "as well. Areas of overlap represent opportunities for sharing and leveraging resources \n",
      "between the planning process es for such activities as:  (1) needs assessments based on the \n",
      "distribution of targeted populations and locations of employment centers, employment -FTA C 9070.1G  Page V—9 \n",
      "07/07/2014  \n",
      " \n",
      " \n",
      " \n",
      "related activities, community services and activities, medical centers, housing, and other \n",
      "destinations; (2) inventories of transportation providers/resources, levels of utilization, \n",
      "duplication of service , and unused capacity; (3) gap analysis; (4) any eligibility \n",
      "restrictions; and (5) opportunities for increased coordination of transportation services.  \n",
      "Local co mmunities may choose the method for developing plans that best fits their needs \n",
      "and circumstances.   \n",
      "b. Relationship Between the Requirement for Public Participation in the Coordinated Plan \n",
      "and the Requirement for Public Participation in Metropolitan and State wide \n",
      "Transportation Planning . Title 49 U.S.C.  5303(i)(6 ) and 5304(f)(3), as amended by MAP -\n",
      "21, require MPOs  and states to engage  interested parties in preparing transportation plans, \n",
      "TIPs, and STIPs . “Interested parties” include, among others, affected public agencies, \n",
      "private providers of transportation, representatives of users of public transportation, and \n",
      "representatives of individuals with disabilities.   \n",
      "MPOs  and/or states may wor\n",
      "###\n",
      "\n"
     ]
    }
   ],
   "source": [
    "rand = random.randint(0, num_char)\n",
    "prompt = f\"\"\"\n",
    "Given the following context inside the triple hashtag, generate 10 questions. Provide the answer. Respond in following format:\n",
    "- Question:\n",
    "- Answer:\n",
    "\n",
    "- Question:\n",
    "- Answer:\n",
    "###\n",
    "{texts[rand:rand+10000]}\n",
    "###\n",
    "\"\"\"\n",
    "print(prompt)"
   ]
  },
  {
   "cell_type": "code",
   "execution_count": 67,
   "id": "0a2f49e0-4487-4fff-b28a-8764e0b46f67",
   "metadata": {},
   "outputs": [],
   "source": [
    "response = client.chat.completions.create(\n",
    "  model=\"gpt-3.5-turbo\",\n",
    "  messages=[\n",
    "    {\"role\": \"system\", \"content\": \"You are a helpful assistant.\"},\n",
    "    {\"role\": \"user\", \"content\": prompt},\n",
    "  ]\n",
    ")"
   ]
  },
  {
   "cell_type": "code",
   "execution_count": 68,
   "id": "c493310b-f565-42f8-979e-8bc2caf278f3",
   "metadata": {},
   "outputs": [
    {
     "name": "stdout",
     "output_type": "stream",
     "text": [
      "- Question: Who should be invited to participate in the coordinated planning process for improving transportation services for people with disabilities and seniors?\n",
      "- Answer: Individuals, groups, and organizations representing these target populations, such as transportation partners, passengers and advocates, human service partners, and others.\n",
      "- Question: What are some examples of transportation partners that should be included in the coordinated planning process?\n",
      "- Answer: Area transportation planning agencies, public transportation providers, private transportation providers, nonprofit transportation providers, and human service agencies funding transportation services.\n",
      "- Question: Who are considered passengers and advocates in the coordinated planning process?\n",
      "- Answer: Existing and potential riders, protection and advocacy organizations, representatives from independent living centers, and advocacy organizations working on behalf of targeted populations.\n",
      "- Question: What are some examples of human service partners that should be included in the planning process?\n",
      "- Answer: Agencies that administer health, employment, or other support programs for targeted populations, nonprofit human service provider organizations, job training and placement agencies, housing agencies, healthcare facilities, and mental health agencies.\n",
      "- Question: Apart from transportation and human service agencies, who else should be involved in the planning process?\n",
      "- Answer: Security and emergency management agencies, tribes and tribal representatives, economic development organizations, faith-based and community-based organizations, representatives of the business community, appropriate local or state officials and elected officials, school districts, and policy analysts or experts.\n",
      "- Question: Does participation in the planning process imply any restrictions for transportation providers to bid on providing services?\n",
      "- Answer: No, participation in the planning process does not bar providers, both public and private, from bidding to provide services identified in the coordinated planning process.\n",
      "- Question: How should the adoption of the plan be determined?\n",
      "- Answer: The lead agency, in consultation with participants, should identify the process for approving and adopting the plan. The process must include participation by stakeholders such as seniors, individuals with disabilities, representatives of transportation and human service providers, and other members of the public.\n",
      "- Question: Will FTA formally review and approve coordinated plans?\n",
      "- Answer: No, FTA will not formally review and approve coordinated plans. The recipient's grant application will document the plan from which each project listed is included.\n",
      "- Question: How does the coordinated planning process relate to the metropolitan and statewide transportation planning processes?\n",
      "- Answer: The coordinated plan may either be developed separately and incorporated into the broader plans or be developed as part of the metropolitan and statewide transportation planning processes. Coordination and consistency between the coordinated planning process and metropolitan or statewide planning processes should be ensured.\n",
      "- Question: How should projects identified in the coordinated planning process be incorporated into the TIP and STIP?\n",
      "- Answer: Projects identified in the coordinated planning process and selected for FTA funding must be incorporated into both the TIP and STIP in urbanized areas with populations of 50,000 or more. For rural areas under 50,000 in population, the projects must be incorporated into the STIP.\n",
      "- Question: How can resources be shared and leveraged between the coordinated planning process and the metropolitan and statewide transportation planning processes?\n",
      "- Answer: There are opportunities for sharing and leveraging resources between the planning processes in areas such as needs assessments, inventories of transportation providers/resources, gap analysis, eligibility restrictions, and increased coordination of transportation services.\n"
     ]
    }
   ],
   "source": [
    "print(response.choices[0].message.content)"
   ]
  },
  {
   "cell_type": "code",
   "execution_count": null,
   "id": "75936c66-dfb4-4dff-9e3c-ca54e12e0401",
   "metadata": {},
   "outputs": [],
   "source": []
  }
 ],
 "metadata": {
  "kernelspec": {
   "display_name": "Python 3 (ipykernel)",
   "language": "python",
   "name": "python3"
  },
  "language_info": {
   "codemirror_mode": {
    "name": "ipython",
    "version": 3
   },
   "file_extension": ".py",
   "mimetype": "text/x-python",
   "name": "python",
   "nbconvert_exporter": "python",
   "pygments_lexer": "ipython3",
   "version": "3.11.7"
  }
 },
 "nbformat": 4,
 "nbformat_minor": 5
}
