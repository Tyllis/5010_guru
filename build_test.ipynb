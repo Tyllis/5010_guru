{
 "cells": [
  {
   "cell_type": "code",
   "execution_count": 32,
   "id": "38c9de8d-f31f-4c02-bd68-ae3b38eaa52d",
   "metadata": {},
   "outputs": [],
   "source": [
    "import os\n",
    "import getpass\n",
    "import glob\n",
    "import pypdf\n",
    "import random\n",
    "from openai import OpenAI\n",
    "from langchain.document_loaders import PyPDFLoader"
   ]
  },
  {
   "cell_type": "code",
   "execution_count": 35,
   "id": "54fdfa70-b699-4418-9a94-84a43c6db27f",
   "metadata": {},
   "outputs": [
    {
     "name": "stdin",
     "output_type": "stream",
     "text": [
      "OpenAI API Key: ········\n"
     ]
    }
   ],
   "source": [
    "os.environ[\"OPENAI_API_KEY\"] = getpass.getpass(\"OpenAI API Key:\")\n",
    "client = OpenAI(api_key=os.environ.get(\"OPENAI_API_KEY\"))"
   ]
  },
  {
   "cell_type": "code",
   "execution_count": 69,
   "id": "60e431da-4d51-4f91-8cb5-ca38547085f6",
   "metadata": {},
   "outputs": [],
   "source": [
    "file_path = 'pdf/5010-1e-circular-award-management-requirements-7-16-18.pdf'\n",
    "reader = pypdf.PdfReader(file_path)\n",
    "texts = ''.join([page.extract_text() for page in reader.pages])\n",
    "num_char = len(texts)"
   ]
  },
  {
   "cell_type": "code",
   "execution_count": 70,
   "id": "2cb4f950-4494-4316-8d4c-54dd194b3aa4",
   "metadata": {},
   "outputs": [
    {
     "data": {
      "text/plain": [
       "(558052, 539483)"
      ]
     },
     "execution_count": 70,
     "metadata": {},
     "output_type": "execute_result"
    }
   ],
   "source": [
    "rand = random.randint(0, num_char)\n",
    "num_char, rand"
   ]
  },
  {
   "cell_type": "code",
   "execution_count": null,
   "id": "f2b28c64-933c-468b-8410-99ef802f15ed",
   "metadata": {},
   "outputs": [],
   "source": []
  },
  {
   "cell_type": "code",
   "execution_count": 73,
   "id": "b01c2a2f-7289-4efa-ae0b-0205fbdeaa84",
   "metadata": {},
   "outputs": [
    {
     "name": "stdout",
     "output_type": "stream",
     "text": [
      "\n",
      "Given the following context inside the triple hashtag, generate 10 questions. Provide the answer. Respond in following format:\n",
      "- Question:\n",
      "- Answer:\n",
      "\n",
      "- Question:\n",
      "- Answer:\n",
      "###\n",
      "cutive \n",
      "Budget if budgeted costs are being proposed) to support the allowable costs of each \n",
      "central service activity included in the plan;  \n",
      "c. A certification of conformance which st ates that the plan was prepared in accordance \n",
      "with 2 CFR part  200, Appendix  V, subsection E.4 and the federal Award(s) to which they \n",
      "apply.  \n",
      "d. Unallowable costs have been adjusted as indicated in the cost allocation plan. \n",
      "e. The same costs that have been treated as indirect costs have not been claimed as direct \n",
      "costs.  \n",
      "f. Federal Awards contain only allowable costs, and the plan was prepared in a manner that \n",
      "treated similar costs consistently among the various federal Award s and between federal \n",
      "and non- federal awards/activities .   \n",
      "g. A proposal to establish a CAP  will be unac ceptable if the CAP Certificate is omitted .  \n",
      "The certificate must be signed on behalf of the governmental unit by an individual at a \n",
      "level no lower than chief financial officer of the governmental unit that submits the plan.  \n",
      "For details related to documentation requirements for allocated and billed central service \n",
      "costs refer to 2 CFR part  200, Appendix  V, section  E, “Documentation Requirements for \n",
      "Submitted Plans ,” numbers 2, 3, and 4, respectively .   \n",
      "3. SUBMISSION REQUIREMENTS .  The Cost Allocation Plan  must be submitted to the \n",
      "recipient’s Federal Cognizant Agency for indirect c osts for approval based on the following:    \n",
      "a. Each state will submit its CAP to the Department of Health and Human Services  each \n",
      "year.   \n",
      "b. Each major local government (one which receives more than $100 million  in direct \n",
      "federal Award s) is required to submit the CAP to its cognizant agency for indirect costs \n",
      "annually.  \n",
      "c. All other local governments must prepare and retain CAPs for the Single Audit and \n",
      "submit CAPs only when required by the cognizant agency.  \n",
      "d. When FTA is the cognizant agency, the CAP must be submitted under the following \n",
      "circumstances: (1) for an initial plan, (2) annually for major local governments, (3) for a \n",
      "change in organizational structure and accounting system that may significantly impac t \n",
      "the CAP, (4) for a change in CAP methodology, and/or (5) upon request for all other \n",
      "entities .  All CAPs must be retained for audit.  FTA C 5010.1E  Appendix F -3 \n",
      " Whenever the cognizant agency gives approval to a government -wide CAP, such \n",
      "approval should be formalized, in a written ag reement between the cognizant agency for \n",
      "indirect costs and the state, local government, or Indian tribe , and distributed to all \n",
      "interested federal agencies, and applicable to all federal Awards in accordance with \n",
      "2 CFR part  200, Ap pendix  V.  See information below .  (See 2 CFR part  200, Appendix  \n",
      "VII for more detailed information on States and Local Government and Indian Tribe  \n",
      "Indirect Cost Proposals.)  \n",
      "2 CFR part 200, Appendix  V, section D .  “Submission Requir ements” states:  \n",
      "(1) Each state will submit a plan to the Department of Health and Human Services  for \n",
      "each year in which it claims central service costs under federal  Award s.  The plan \n",
      "should include (a) a  projection of the next year’s allocated central service cost \n",
      "(based either on actual costs for the most recently completed year or the budget \n",
      "projection for the coming year), and (b) a reconciliation of actual allocated central \n",
      "service costs to the estima ted costs used for either the most recently completed year \n",
      "or the year immediately preceding the most recently completed year .   \n",
      "(2) Each major local government is also required to submit a plan to its cognizant \n",
      "agency for indirect costs annually .   \n",
      "(3) All other local governments claiming central service costs must develop a plan in \n",
      "accordance with the requirements described in this Part and maintain the plan and \n",
      "related supporting documentation for audit .  These local governments are not \n",
      "required to submit their plans for federal  approval unless they are specifically \n",
      "requested to do so by the cognizant agency for indirect costs .  Where a local \n",
      "government only receives funds as a subrecipient, the pass -through entity will be \n",
      "responsible for monitoring the subrecipi ent’s plan .   \n",
      "(4) All central service cost allocation plans  will be prepared by  governmental units or \n",
      "agencies that receive over $35 million per year in direct Federal funding and, when \n",
      "required, submitted within six month s after the close of each of the governmental \n",
      "unit’s fiscal years in which it proposes to claim central service costs .  Extensions \n",
      "may be granted by the cognizant agency for indirect costs on a case- by-case basis.  \n",
      "4. FTA REPORTING REQUIR EMENTS .  Generally cen tral service costs are included in the \n",
      "indirect cost pool(s) of the operating governmental departments or agencies .  Therefore , \n",
      "central service costs are generally included in the overall indirect cost information that is \n",
      "required in the FFR .   \n",
      "5. FTA REVIEWS  OF CAPS .  CAPs submitted to the FTA for approval are subject to review .  \n",
      "The purpose of a CAP proposal review is to ensure that the methodology and the rates \n",
      "proposed by the recipient meet the criteria contained in 2 CFR part  200 and FTA policies as a \n",
      "condition for reimbursement .   \n",
      " \n",
      " Appendix F -4 FTA C 5010.1E  \n",
      " 6. REFERENCES  \n",
      "The detailed requirements for development and submission of central service cost allocation \n",
      "plans  are contained in:  \n",
      "a.  2 CFR part 200, Appendix V;   \n",
      "b. Guidelines and illustrations of  central service cost allocation plans  are provided in a \n",
      "brochure published by the Department of Health and Human Services  entitled A Guide \n",
      "for State, Local and Indian Tribal Governments : Cost Principles and Procedures for \n",
      "Developing Cost Allocation Plans  and Indirect Cost Rates for Agreements with the \n",
      "Federal Government  (ASMB C -10); and \n",
      "c. All official Frequently Asked Questions and updates to 2 CFR part 200.   \n",
      "  \n",
      "This page intentionally left blankAppendix G -1 FTA C 5010.1E  \n",
      " APPENDIX G:   \n",
      " \n",
      "INDIRECT COST RATE PROPOSALS  \n",
      "1. GENERAL .  Indirect cost rate proposal  means the documentation prepared by a recipient or \n",
      "subrecipient to substantiate its request for the establishment of an indirect cost rate .  \n",
      "Individual operating agenc ies (governmental department or agency) and non- profit \n",
      "recipients, normally charge federal Award s for indirect costs through an indirect cost rate .  A \n",
      "separate indirect cost rate(s) proposal for each operating agency is usually necessary to claim \n",
      "indirect costs under federal Award s.  Indirect costs include: (1) t he indirect costs originating \n",
      "in each department or agency of the recipient carrying out federal Award s; and (2) t he costs \n",
      "of central governmental services distributed through the central service cost allocation plan  \n",
      "and not otherwise treated as direct costs ( See Appendix F, Cost Allocation Plans ).   \n",
      "Recipients that intend to seek the Federal Transit Administration  (FTA) reimbursement for \n",
      "indirect costs must prepare an Indirect Cost Rate Proposal  (ICRP) unless the Recipient has \n",
      "never negotiated an indirect cost rate and chooses to use a de minimis  rate of 10% of the \n",
      "modified total direct cost .  Also, recipients that already have an established indirect cost rate \n",
      "may apply for a 4 -year extension of their current negotiated indirect cost rate for a maximum \n",
      "period of up to five years .  Note that onl y final or predetermined rates may be extended .  Any \n",
      "recipient who receives more than $35 million  in direct federal  funding must submit its \n",
      "indirect cost rate proposal  to its cognizant agency for indirect costs .  \n",
      "For those recipients that do not choose to use the de minimis  rate or receive approval of an \n",
      "extension of their current negotiated indirect cost rate, the following are basic requirements \n",
      "for an ICRP .   \n",
      "a. ICRPs must be updated annually .   \n",
      "b. The updated ICRP must be r etained and made available for review at the recipient’s \n",
      "annual single audit .   \n",
      "c. The initial ICRP must be approved by FTA or another cognizant federal agency .  The \n",
      "cognizant agency is the agency responsible for reviewing and approving the recipient’s \n",
      "ICRP .  For subsequent approvals, please refer to section 3 of this appendix .   \n",
      "Additionally, all costs in the ICRP must be supported by formal accounting records to \n",
      "substantiate the propriety of eventual charges .  The ICRP of the recipient should cover all \n",
      "applicable costs .  It should also cover costs allocated under plans of other agencies or \n",
      "organizational units which are to be included in the costs of other federally sponsored \n",
      "programs .  To the extent feasible, ICRPs of all agencies rendering assistance t o the \n",
      "recipient should be presented in a single document .   \n",
      "2. DOCUMENTATION REQUIR EMENTS .  Documentation requirements for an ICRP vary \n",
      "based on the type of organization.  See section 7 below for references to the requirements for FTA C 5010.1E  Appendix G -2 \n",
      " each type of organization .  In general , the ICRP should contain, but need not be limited to, \n",
      "the following:   \n",
      "a. An Organization Chart .   \n",
      "b. Financial Statements .   \n",
      "c. ICRP Methodology – under 2 CFR part  200, Appendix VII -  the recipient may use a \n",
      "simplified method or multiple allocation base method for completing the indirect cost rate \n",
      "proposal .  Generally, the simplified method is used where a recipient’s major functions \n",
      "benefit from its indirect costs to approximately the same degree .  The simplified metho d \n",
      "results in one indirect cost rate for the entire recipient .  Conversely the multiple allocation \n",
      "base method is used where a recipient’s major functions benefit from indirect costs to \n",
      "varying degrees .  The multiple allocation base method results in two or  more rates related \n",
      "to each operating department or similar operating departments within the recipient.  The \n",
      "calculations of the rates depend on the type of organization, therefore refer to 2 CFR \n",
      "part 200 for details .    \n",
      "d. Supporting Documentation:   \n",
      "(1) Identification of the cost\n",
      "###\n",
      "\n"
     ]
    }
   ],
   "source": [
    "rand = random.randint(0, num_char)\n",
    "prompt = f\"\"\"\n",
    "Given the following context inside the triple hashtag, generate 10 questions. Provide the answer. Respond in following format:\n",
    "- Question:\n",
    "- Answer:\n",
    "\n",
    "- Question:\n",
    "- Answer:\n",
    "###\n",
    "{texts[rand:rand+10000]}\n",
    "###\n",
    "\"\"\"\n",
    "print(prompt)"
   ]
  },
  {
   "cell_type": "code",
   "execution_count": 74,
   "id": "0a2f49e0-4487-4fff-b28a-8764e0b46f67",
   "metadata": {},
   "outputs": [],
   "source": [
    "response = client.chat.completions.create(\n",
    "  model=\"gpt-3.5-turbo\",\n",
    "  messages=[\n",
    "    {\"role\": \"system\", \"content\": \"You are a helpful assistant.\"},\n",
    "    {\"role\": \"user\", \"content\": prompt},\n",
    "  ]\n",
    ")"
   ]
  },
  {
   "cell_type": "code",
   "execution_count": 75,
   "id": "c493310b-f565-42f8-979e-8bc2caf278f3",
   "metadata": {},
   "outputs": [
    {
     "name": "stdout",
     "output_type": "stream",
     "text": [
      "- Question: What is the purpose of a Cost Allocation Plan (CAP)?\n",
      "- Answer: The purpose of a CAP is to allocate costs and ensure that they are consistent and allowable for federal awards and activities.\n",
      "\n",
      "- Question: What documents must be included in a CAP submission?\n",
      "- Answer: The documents that must be included in a CAP submission are a description of the method used to allocate costs, a detailed budget, a certification of conformance, adjusted unallowable costs, consistency in treatment of costs, and a signed CAP certificate.\n",
      "\n",
      "- Question: How often must a state submit its CAP to the Department of Health and Human Services?\n",
      "- Answer: Each state must submit its CAP to the Department of Health and Human Services annually.\n",
      "\n",
      "- Question: Which local governments are required to submit their CAP to the cognizant agency for indirect costs annually?\n",
      "- Answer: Major local governments, which receive more than $100 million in direct federal awards, are required to submit their CAP annually.\n",
      "\n",
      "- Question: When must a CAP be submitted to the Federal Transit Administration (FTA)?\n",
      "- Answer: A CAP must be submitted to the FTA for an initial plan, annually for major local governments, for a change in organizational structure or accounting system, for a change in CAP methodology, and upon request for all other entities.\n",
      "\n",
      "- Question: What are the submission requirements for a CAP?\n",
      "- Answer: The submission requirements for a CAP include submitting it to the recipient’s Federal Cognizant Agency for indirect costs, submitting annually for major local governments, and submitting only when required by the cognizant agency for all other local governments.\n",
      "\n",
      "- Question: What reporting requirements are there for central service costs in the FFR?\n",
      "- Answer: Central service costs are generally included in the overall indirect cost information that is required in the FFR.\n",
      "\n",
      "- Question: What is the purpose of reviewing CAPs submitted to the FTA?\n",
      "- Answer: The purpose of reviewing CAPs submitted to the FTA is to ensure that the methodology and rates proposed by the recipient meet the criteria of 2 CFR part 200 and FTA policies for reimbursement.\n",
      "\n",
      "- Question: Where can detailed requirements for development and submission of central service cost allocation plans be found?\n",
      "- Answer: Detailed requirements can be found in 2 CFR part 200, Appendix V, as well as in a brochure published by the Department of Health and Human Services and official Frequently Asked Questions and updates to 2 CFR part 200.\n",
      "\n",
      "- Question: What is an Indirect Cost Rate Proposal (ICRP)?\n",
      "- Answer: An ICRP is the documentation prepared by a recipient or subrecipient to substantiate its request for the establishment of an indirect cost rate.\n",
      "\n",
      "- Question: What are the documentation requirements for an ICRP?\n",
      "- Answer: The documentation requirements for an ICRP vary based on the type of organization but generally include an organization chart, financial statements, ICRP methodology, and supporting documentation for cost identification.\n"
     ]
    }
   ],
   "source": [
    "print(response.choices[0].message.content)"
   ]
  },
  {
   "cell_type": "code",
   "execution_count": null,
   "id": "75936c66-dfb4-4dff-9e3c-ca54e12e0401",
   "metadata": {},
   "outputs": [],
   "source": []
  }
 ],
 "metadata": {
  "kernelspec": {
   "display_name": "Python 3 (ipykernel)",
   "language": "python",
   "name": "python3"
  },
  "language_info": {
   "codemirror_mode": {
    "name": "ipython",
    "version": 3
   },
   "file_extension": ".py",
   "mimetype": "text/x-python",
   "name": "python",
   "nbconvert_exporter": "python",
   "pygments_lexer": "ipython3",
   "version": "3.11.7"
  }
 },
 "nbformat": 4,
 "nbformat_minor": 5
}
