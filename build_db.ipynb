{
 "cells": [
  {
   "cell_type": "code",
   "execution_count": 17,
   "id": "b32a3d10-a395-47e3-b31e-ed5a03a0005e",
   "metadata": {},
   "outputs": [],
   "source": [
    "import os\n",
    "import getpass\n",
    "import glob\n",
    "import pypdf\n",
    "from tqdm.notebook import tqdm\n",
    "from langchain.llms import OpenAI\n",
    "from langchain.document_loaders import PyPDFLoader\n",
    "from langchain.embeddings.openai import OpenAIEmbeddings\n",
    "from langchain.text_splitter import CharacterTextSplitter, RecursiveCharacterTextSplitter\n",
    "from langchain.vectorstores import FAISS\n",
    "from langchain.prompts import PromptTemplate"
   ]
  },
  {
   "cell_type": "code",
   "execution_count": 4,
   "id": "87729f93-fc4e-4249-b61b-08247536c600",
   "metadata": {},
   "outputs": [
    {
     "name": "stdin",
     "output_type": "stream",
     "text": [
      "OpenAI API Key: ········\n"
     ]
    }
   ],
   "source": [
    "os.environ[\"OPENAI_API_KEY\"] = getpass.getpass(\"OpenAI API Key:\")"
   ]
  },
  {
   "cell_type": "code",
   "execution_count": 5,
   "id": "47fc6c9f-812d-4e6a-addf-101ff6f1e4c3",
   "metadata": {},
   "outputs": [],
   "source": [
    "embeddings = OpenAIEmbeddings()"
   ]
  },
  {
   "cell_type": "code",
   "execution_count": 6,
   "id": "c2f69135-8fa5-4c99-b264-3f28a32183a3",
   "metadata": {},
   "outputs": [],
   "source": [
    "file_path = 'pdf/FTA_Title_VI_FINAL.pdf'"
   ]
  },
  {
   "cell_type": "code",
   "execution_count": 7,
   "id": "adda813f-64f1-478c-8fe4-abe92d889f76",
   "metadata": {},
   "outputs": [
    {
     "data": {
      "text/plain": [
       "' \\n \\n \\n \\n  \\n \\n \\n \\n \\n \\n \\n  \\n \\n \\n \\n \\nU.S. Department  \\nof Transportation  \\nFederal Transit  \\nAdministration \\n \\n CIRCULAR\\n \\nFTA C 4702.1B  \\nSubject: \\t TITLE VI REQUIREMENTS AND GUIDELINES FOR FEDERAL \\nTRANSIT ADMINISTRATION RECIPIENTS   October 1, 2012 \\n1.\\n\\t PURPOSE. The purpose of this Circular is to provide recipients of Federal Transit \\nAdministration (FTA) financial assistance with guidance and instructions necessary to carry \\nout U.S. Department of Transportation (“DOT” or “the Department”) Title VI regulations (49 CFR part 21) and to integrate in to their programs and activitie s considerations expressed in \\nthe Department’s Policy Guidance Concerni ng Recipients’ Responsibilities to Limited \\nEnglish Proficient (“LEP”) Persons (70 FR 74087, December 14, 2005).  \\n2.\\t CANCELLATION. This Circular supersedes FT A Circular 4702.1A “Title VI and Title VI-\\nDependent Guidelines for Federal Transit Administration Recipients,” dated May 13, 2007.  \\n3.\\t AUTHORITY . \\na.\\t Title VI of the Civil Rights Act of 1964, 42 U.S.C. § 2000d et seq. \\nb.\\t Federal Transit Laws, Title 49, United States Code, Chapter 53. \\nc.\\t 49 CFR § 1.51. \\nd.\\t 49 CFR part 21. \\ne.\\t 28 CFR § 42.401 et seq. \\n4.\\t WAIVER. FTA reserves the right to waive any re quirements of this Circular to the extent \\npermitted by law. \\n5.\\t FEDERAL REGISTER NOTICE. In conjunction with publication of this Circular, FTA \\npublished a notice in the Federal Register on August 28, 2012, addressing comments \\nreceived during development of the Circular.  \\n6.\\t AMENDMENTS TO THE CIRCULAR. FTA reserves  the right to update this Circular to \\nreflect changes in other revi sed or new guidance and regulat ions that undergo notice and \\ncomment, without further noti ce and comment on this Circular. FTA will post updates on our '"
      ]
     },
     "execution_count": 7,
     "metadata": {},
     "output_type": "execute_result"
    }
   ],
   "source": [
    "reader = pypdf.PdfReader(file_path)\n",
    "page = reader.pages[0]\n",
    "page.extract_text()"
   ]
  },
  {
   "cell_type": "code",
   "execution_count": 8,
   "id": "51ba9113-402c-4633-80fc-b0984a8b8bbd",
   "metadata": {},
   "outputs": [],
   "source": [
    "FILE_MAP = {\n",
    "    '5010-1e-circular-award-management-requirements-7-16-18.pdf': \"https://www.transit.dot.gov/regulations-and-guidance/fta-circulars/award-management-requirements-circular-50101e\",\n",
    "    'C9070_1G_FINAL_circular_4-20-15(1).pdf': \"https://www.transit.dot.gov/regulations-and-guidance/fta-circulars/enhanced-mobility-seniors-and-individuals-disabilities\",\n",
    "    'eeo-circular-c-47041a.pdf': \"https://www.transit.dot.gov/regulations-and-guidance/civil-rights-ada/eeo-circular\",\n",
    "    'Final_C_9300_1_Bpub.pdf': \"https://www.transit.dot.gov/regulations-and-guidance/fta-circulars/capital-investment-program-guidance-and-application\",\n",
    "    'Final_FTA_ADA_Circular_C_4710.1.pdf': \"https://www.transit.dot.gov/regulations-and-guidance/fta-circulars/americans-disabilities-act-guidance-pdf\",\n",
    "    'FINAL_FTA_circular9030.1E.pdf': \"https://www.transit.dot.gov/regulations-and-guidance/fta-circulars/urbanized-area-formula-program-program-guidance-and\",\n",
    "    'Final_FTA_C_5100_4-16-15.pdf': \"https://www.transit.dot.gov/regulations-and-guidance/fta-circulars/bus-and-bus-facilities-program-guidance-and-application\",\n",
    "    'FTA-Third-party-procurement-best-practices-webinar-transcript-12-13-2022.pdf': \"https://www.transit.dot.gov/regulations-and-programs/fta-circulars/third-party-contracting-guidance-transcript\",\n",
    "    'FTA_Circular_5300_published_02-28-15.pdf': \"https://www.transit.dot.gov/regulations-and-guidance/fta-circulars/state-good-repair-grant-program-guidance-and-application\",\n",
    "    'FTA_Circular_9040_1Gwith_index_-_Final_Revised_-_vm_10-15-14(1).pdf': \"https://www.transit.dot.gov/regulations-and-guidance/fta-circulars/formula-grants-rural-areas-program-guidance-and-application\",\n",
    "    'FTA_Cir_6100.1E.docx_4.08.2015_(2)_0.pdf': \"https://www.transit.dot.gov/regulations-and-guidance/fta-circulars/research-technical-assistance-and-training-program\",\n",
    "    'FTA_C_5800.1SSMP.pdf': \"https://www.transit.dot.gov/regulations-and-guidance/fta-circulars/safety-and-security-management-guidance-major-capital\",\n",
    "    'FTA_EJ_Circular_7.14-12_FINAL.pdf': \"https://www.transit.dot.gov/regulations-and-guidance/fta-circulars/environmental-justice-policy-guidance-federal-transit\",\n",
    "    'FTA_Title_VI_FINAL.pdf': \"https://www.transit.dot.gov/regulations-and-guidance/fta-circulars/title-vi-requirements-and-guidelines-federal-transit\",\n",
    "    'Joint-Development-Circular-C-7050-1B.pdf': \"https://www.transit.dot.gov/funding/funding-finance-resources/joint-development/joint-development-circular-c-70501b\",\n",
    "    'program-guidance-metropolitan-planning-and-state-planning-and-research-c81001d.pdf': \"https://www.transit.dot.gov/regulations-and-guidance/fta-circulars/program-guidance-metropolitan-planning-and-state-planning-a-0\",\n",
    "    'Third Party Contracting Guidance (Circular 4220.1F).pdf': \"https://www.transit.dot.gov/regulations-and-guidance/fta-circulars/third-party-contracting-guidance\",\n",
    "    'UMTA_C_9500.1.pdf': \"https://www.transit.dot.gov/regulations-and-guidance/fta-circulars/intergovernmental-review-fta-planning-capital-and-operating\"\n",
    "}\n",
    "\n",
    "CIRCULAR_MAP = {\n",
    "    '5010-1e-circular-award-management-requirements-7-16-18.pdf': \"C 5010.1E Award Management Requirements\",\n",
    "    'C9070_1G_FINAL_circular_4-20-15(1).pdf': \"C 9070.1G Enhanced Mobility of Seniors and Individuals with Disabilities Program Guidance and Application Instructions\",\n",
    "    'eeo-circular-c-47041a.pdf': \"C 4704.1A Equal Employment Opportunity (EEO) Act Guidance\",\n",
    "    'Final_C_9300_1_Bpub.pdf': \"C 9300.1B Capital Investment Program Guidance and Application Instructions\",\n",
    "    'Final_FTA_ADA_Circular_C_4710.1.pdf': \"C 4710.1 Americans with Disabilities Act Guidance\",\n",
    "    'FINAL_FTA_circular9030.1E.pdf': \"C 9030.1E Urbanized Area Formula Program: Program Guidance and Application Instructions\",\n",
    "    'Final_FTA_C_5100_4-16-15.pdf': \"C 5100.1 Bus and Bus Facilities Program: Guidance and Application Instructions\",\n",
    "    'FTA-Third-party-procurement-best-practices-webinar-transcript-12-13-2022.pdf': \"Third Party Contracting Guidance Webinar Transcript\",\n",
    "    'FTA_Circular_5300_published_02-28-15.pdf': \"C 5300.1 State of Good Repair Grant Program: Guidance and Application Instructions\",\n",
    "    'FTA_Circular_9040_1Gwith_index_-_Final_Revised_-_vm_10-15-14(1).pdf': \"C 9040.1G Formula Grants for Rural Areas: Program Guidance and Application Instructions\",\n",
    "    'FTA_Cir_6100.1E.docx_4.08.2015_(2)_0.pdf': \"C 6100.1E Research, Technical Assistance and Training Program: Application Instructions and Program Management Guidelines\",\n",
    "    'FTA_C_5800.1SSMP.pdf': \"C 5800.1 Safety and Security Management Guidance for Major Capital Projects\",\n",
    "    'FTA_EJ_Circular_7.14-12_FINAL.pdf': \"C 4703.1 Environmental Justice Policy Guidance For Federal Transit Administration Recipients\",\n",
    "    'FTA_Title_VI_FINAL.pdf': \"C 4702.1B Title VI Requirements and Guidelines for Federal Transit Administration Recipients\",\n",
    "    'Joint-Development-Circular-C-7050-1B.pdf': \"C 7050.1B Guidance on Joint Development\",\n",
    "    'program-guidance-metropolitan-planning-and-state-planning-and-research-c81001d.pdf': \"C 8100.1D Program Guidance for Metropolitan Planning and State Planning and Research Program Grants\",\n",
    "    'Third Party Contracting Guidance (Circular 4220.1F).pdf': \"C 4220.1F Third Party Contracting Guidance\",\n",
    "    'UMTA_C_9500.1.pdf': \"C 9500.1 Intergovernmental Review of FTA Planning, Capital and Operating Programs and Activities\"\n",
    "}\n",
    "\n",
    "def create_documents(file_path, chunk_size=250, chunk_overlap=50, path_seperator='\\\\'):\n",
    "    reader = pypdf.PdfReader(file_path)\n",
    "    texts = [page.extract_text() for page in reader.pages]\n",
    "    splitter = RecursiveCharacterTextSplitter.from_tiktoken_encoder(\n",
    "        encoding_name='cl100k_base',\n",
    "        chunk_size = chunk_size,\n",
    "        chunk_overlap = chunk_overlap,\n",
    "    )\n",
    "    docs = splitter.create_documents([''.join(texts)])\n",
    "    slash_index = file_path[::-1].index(path_seperator)\n",
    "    file_name = file_path[-slash_index:]\n",
    "    for idx, doc in enumerate(docs):\n",
    "        doc.metadata['file_name'] = file_name\n",
    "        doc.metadata['file_link'] = FILE_MAP[file_name]\n",
    "        doc.metadata['circular_name'] = CIRCULAR_MAP[file_name]\n",
    "        pages = get_page(doc.page_content, texts, search_window=20)\n",
    "        doc.metadata['start_page'] = pages['start_page'] + 1\n",
    "        doc.metadata['end_page'] = pages['end_page'] + 1\n",
    "    return docs, texts\n",
    "\n",
    "def get_page(content, texts, search_window=20):\n",
    "    for idx, text in enumerate(texts):\n",
    "        if content in text:\n",
    "            return {'start_page': idx, 'end_page': idx}\n",
    "        else:\n",
    "            for i in range(1, search_window+1):\n",
    "                if content in ''.join(texts[idx-i:idx]) + texts[idx]:\n",
    "                    return {'start_page': idx-i, 'end_page': idx}      "
   ]
  },
  {
   "cell_type": "code",
   "execution_count": 9,
   "id": "82a5437d-ed3f-4722-b2f1-f49e444889bf",
   "metadata": {},
   "outputs": [
    {
     "data": {
      "text/plain": [
       "(339, 130)"
      ]
     },
     "execution_count": 9,
     "metadata": {},
     "output_type": "execute_result"
    }
   ],
   "source": [
    "docs, texts = create_documents(file_path, chunk_size=250, chunk_overlap=50, path_seperator='/')\n",
    "len(docs), len(texts)"
   ]
  },
  {
   "cell_type": "code",
   "execution_count": 11,
   "id": "5a6c075d-fb54-4df5-be30-cb698cf05a61",
   "metadata": {},
   "outputs": [
    {
     "data": {
      "text/plain": [
       "Document(page_content='tract, block or block group, or traffic analysis zone, wh ere the proportion of minority \\npersons residing in that area exceeds the av erage proportion of minority persons in the \\nrecipient’s service area.  \\nx.\\t Primary recipient means any FTA recipient that extends Federal fina ncial assistance to a \\nsubrecipient. \\ny.\\t Provider of fixed route public transportation (or “transit provider”)  means any entity that \\noperates public transportation service, and incl udes States, local and regional entities, and \\npublic and private entities. This term is used in place of “recipient” in chapter IV and is \\ninclusive of direct recipients, primary recipi ents, designated recipients, and subrecipients \\nthat provide fixed route pub lic transportation service. \\nz.\\t Public transportation means regular, con tinuing shared-ride surface transportation \\nservices that are open to the general public or open to a segment of the general public \\ndefined by age, disability, or low income; and does not include Am trak, intercity bus \\nservice, charter bus service, school bus serv ice, sightseeing service, courtesy shuttle', metadata={'file_name': 'FTA_Title_VI_FINAL.pdf', 'file_link': 'https://www.transit.dot.gov/regulations-and-guidance/fta-circulars/title-vi-requirements-and-guidelines-federal-transit', 'circular_name': 'C 4702.1B Title VI Requirements and Guidelines for Federal Transit Administration Recipients', 'start_page': 11, 'end_page': 11})"
      ]
     },
     "execution_count": 11,
     "metadata": {},
     "output_type": "execute_result"
    }
   ],
   "source": [
    "docs[30]"
   ]
  },
  {
   "cell_type": "code",
   "execution_count": null,
   "id": "5f7cdbf3-9480-41e8-ad57-dfb67c1f9c32",
   "metadata": {},
   "outputs": [],
   "source": []
  },
  {
   "cell_type": "code",
   "execution_count": 12,
   "id": "48ccf5f0-3a2d-40fb-8a3d-bea6fa75d978",
   "metadata": {},
   "outputs": [
    {
     "name": "stdout",
     "output_type": "stream",
     "text": [
      "Loading 1/18: pdf\\5010-1e-circular-award-management-requirements-7-16-18.pdf\n",
      "Loading 2/18: pdf\\C9070_1G_FINAL_circular_4-20-15(1).pdf\n",
      "Loading 3/18: pdf\\eeo-circular-c-47041a.pdf\n",
      "Loading 4/18: pdf\\Final_C_9300_1_Bpub.pdf\n",
      "Loading 5/18: pdf\\Final_FTA_ADA_Circular_C_4710.1.pdf\n",
      "Loading 6/18: pdf\\FINAL_FTA_circular9030.1E.pdf\n",
      "Loading 7/18: pdf\\Final_FTA_C_5100_4-16-15.pdf\n",
      "Loading 8/18: pdf\\FTA-Third-party-procurement-best-practices-webinar-transcript-12-13-2022.pdf\n",
      "Loading 9/18: pdf\\FTA_Circular_5300_published_02-28-15.pdf\n",
      "Loading 10/18: pdf\\FTA_Circular_9040_1Gwith_index_-_Final_Revised_-_vm_10-15-14(1).pdf\n",
      "Loading 11/18: pdf\\FTA_Cir_6100.1E.docx_4.08.2015_(2)_0.pdf\n",
      "Loading 12/18: pdf\\FTA_C_5800.1SSMP.pdf\n",
      "Loading 13/18: pdf\\FTA_EJ_Circular_7.14-12_FINAL.pdf\n",
      "Loading 14/18: pdf\\FTA_Title_VI_FINAL.pdf\n",
      "Loading 15/18: pdf\\Joint-Development-Circular-C-7050-1B.pdf\n",
      "Loading 16/18: pdf\\program-guidance-metropolitan-planning-and-state-planning-and-research-c81001d.pdf\n",
      "Loading 17/18: pdf\\Third Party Contracting Guidance (Circular 4220.1F).pdf\n",
      "Loading 18/18: pdf\\UMTA_C_9500.1.pdf\n",
      "6469\n"
     ]
    }
   ],
   "source": [
    "file_path = glob.glob('pdf/*.pdf')\n",
    "pages = []\n",
    "for idx, file in enumerate(file_path):\n",
    "    print(f'Loading {idx+1}/{len(file_path)}: {file}')\n",
    "    docs, _ = create_documents(file, chunk_size=250, chunk_overlap=50, path_seperator='\\\\')\n",
    "    pages += docs\n",
    "    \n",
    "print(len(pages))"
   ]
  },
  {
   "cell_type": "code",
   "execution_count": 13,
   "id": "d93028bf-cfa3-45e9-9b7b-db6e3260386b",
   "metadata": {},
   "outputs": [
    {
     "data": {
      "text/plain": [
       "{'file_name': 'Final_C_9300_1_Bpub.pdf',\n",
       " 'file_link': 'https://www.transit.dot.gov/regulations-and-guidance/fta-circulars/capital-investment-program-guidance-and-application',\n",
       " 'circular_name': 'C 9300.1B Capital Investment Program Guidance and Application Instructions',\n",
       " 'start_page': 13,\n",
       " 'end_page': 13}"
      ]
     },
     "execution_count": 13,
     "metadata": {},
     "output_type": "execute_result"
    }
   ],
   "source": [
    "pages[1238].metadata"
   ]
  },
  {
   "cell_type": "code",
   "execution_count": 14,
   "id": "91276ec6-e3ef-4dcd-bee3-91c5c3e217fa",
   "metadata": {},
   "outputs": [],
   "source": [
    "db = FAISS.from_documents(pages, embeddings)\n",
    "db.save_local('data/')"
   ]
  },
  {
   "cell_type": "code",
   "execution_count": 15,
   "id": "f5e1f36b-a8e4-4947-9448-14aaaeba4fe3",
   "metadata": {},
   "outputs": [],
   "source": [
    "new_db = FAISS.load_local(\"data\", embeddings)\n",
    "query = 'What is Circular 5010.1E?'\n",
    "\n",
    "docs_found = new_db.similarity_search(query, k=5)"
   ]
  },
  {
   "cell_type": "code",
   "execution_count": 16,
   "id": "4d27b89e-d391-41c4-bf0f-b17cb491ffb7",
   "metadata": {},
   "outputs": [
    {
     "data": {
      "text/plain": [
       "[Document(page_content='This circular is intended to assist recipients in applying for and administering Federal Transit\\nAdministration (FTA) -funded proje cts and in meeting the responsibilities and reporting\\nrequirements of FTA awards.  Recipients have a responsibility to comply with regulatoryrequirements and to be aware of all pertinent guidance material to assist in the managementof their federally ass isted awards.  If there is a conflict between FTA Circular 5010.1,\\n“Awards Management Requirements,” and this program- specific circular (C  8100.1D), the\\nguidance provided herein prevails.\\nPage ii  FTA C 8100.1D  \\n 2. CANCELLATION. This circular cancels FTA  Circular 8100.1C, “Program Guidance For \\nMetropolitan Planning and State Planning and Research Program Grants ,” dated September \\n1, 2008.  \\n3. AUTHORITY.  \\na. Federal Transit Laws, 49  U.S.C Chapter 53.   \\nb. 49 C .F.R. 1.51.', metadata={'file_name': 'program-guidance-metropolitan-planning-and-state-planning-and-research-c81001d.pdf', 'file_link': 'https://www.transit.dot.gov/regulations-and-guidance/fta-circulars/program-guidance-metropolitan-planning-and-state-planning-a-0', 'circular_name': 'C 8100.1D Program Guidance for Metropolitan Planning and State Planning and Research Program Grants', 'start_page': 1, 'end_page': 2}),\n",
       " Document(page_content='b. 49 CFR 1.51.  \\n4. WAIVER . FTA reserves the right to waive any provision of this circular to the extent \\npermitted by Federal  law or regulation.   \\n5. FEDERAL  REGISTER NOTICE . In conjuction with publication of this circular, FTA \\npublished a notice in the Federal Register on April 10, 2015, addressing comments \\nreceived during development of the circular.  \\n6. AMENDMENTS TO THE CIRCULAR . FTA reserves the right to update  this circular to \\nreflect changes in other revised or new guidance and regulatio ns that undergo  notice and \\ncomment without further notice and comment on this circular. FTA will post updates on \\nour website : http://www.fta.dot.gov . The website  allows the public to register for \\nnotification when FTA issues Federal  Register  notice s or new guidance. Please visit the \\nwebsite  and click on “ Connect  with FTA ” for more information.  \\nPage 2 FTA C 6100.1E', metadata={'file_name': 'FTA_Cir_6100.1E.docx_4.08.2015_(2)_0.pdf', 'file_link': 'https://www.transit.dot.gov/regulations-and-guidance/fta-circulars/research-technical-assistance-and-training-program', 'circular_name': 'C 6100.1E Research, Technical Assistance and Training Program: Application Instructions and Program Management Guidelines', 'start_page': 1, 'end_page': 2}),\n",
       " Document(page_content='Appendix E FTA C -5100 \\nPage E–4 of 6 05/18/2015 \\n \\n zz. FTA Circular 4220.1, “Third Party Contracting Requirements.” \\n \\naaa. FTA Circular 4702.1, “Title VI Program Guidelines for FTA Recipients.”  \\nbbb. FTA Circular 5010.1, “Grant Management Requirements.”  \\nccc. FTA Circular 9030.1, “Urbanized Formula Program Guidance and Application \\nInstructions.” \\n \\nddd. U.S. General Services A dministratio n, “Excluded Parties List \\nSyste m,” https://ww w.sams.go v\\n. \\n \\neee. FTA Master Agreem ent FTA MA(15), Oct. 1, 2008. \\n \\nfff. FTA E CHO-Web Syst em Operations Manual \\nhttp://www.fta.dot.gov/documents/ECHOWebGranteeUserManual.pdf \\n \\n  FTA C -5100 Appendix E \\n05/18/2015 Page E–5 of 6', metadata={'file_name': 'Final_FTA_C_5100_4-16-15.pdf', 'file_link': 'https://www.transit.dot.gov/regulations-and-guidance/fta-circulars/bus-and-bus-facilities-program-guidance-and-application', 'circular_name': 'C 5100.1 Bus and Bus Facilities Program: Guidance and Application Instructions', 'start_page': 140, 'end_page': 141}),\n",
       " Document(page_content='nondiscrimination requirements in Part 37, along with grantees’ local complaint process requirements and \\nDOT compliance and enforcement provisions discussed in Circular Chapter  12.  \\n     \\n     \\n  \\n \\n    \\n  \\n  \\n  \\n \\n \\n  \\n-\\n  \\n \\n   \\n   \\n  \\n \\n   \\n \\n  \\n  \\n  \\n   \\n \\n  \\n   \\n \\n  \\n \\n   \\n \\n  \\n  \\n \\n   \\n \\n \\n   \\n  \\n \\n  \\n \\n   \\n \\n  \\n  \\n \\n   \\n \\n \\n  \\n  \\n \\n   \\n \\n   \\n \\n  \\n  \\n \\n   \\n \\n \\n   \\n \\n \\n  \\n \\n   \\n \\n  \\n  \\n \\n   \\n \\n \\n   \\n \\n \\n \\n  \\n \\n   \\n    \\n   \\n \\n   \\n  \\n   \\n    \\n     \\n     \\n \\n   \\n \\n    \\n       \\n   \\n   FTA C 4710.1', metadata={'file_name': 'Final_FTA_ADA_Circular_C_4710.1.pdf', 'file_link': 'https://www.transit.dot.gov/regulations-and-guidance/fta-circulars/americans-disabilities-act-guidance-pdf', 'circular_name': 'C 4710.1 Americans with Disabilities Act Guidance', 'start_page': 12, 'end_page': 13}),\n",
       " Document(page_content='81. FTA Circular 9300.1B, “Capital Investment Program Guidance and Application \\nInstructions,” November  1, 2008, and superseded by a later edition, if published.   \\n82. FTA Circular 9070.1G, “Enhanced Mobility of Seniors and Individuals with Disabili ties \\nProgram Guidance and Application Instructions,” June 6, 2014, and superseded by a later \\nedition, if published. \\n83. FTA Circular 7050.1, “FTA Guidance on Joint Development,” August  25, 2014, and \\nsuperseded by a later edition, if published. \\n84. FTA Circular 6100.1E, “ Research, Technical Assistance and Training Program: \\nApplication Instructions and Program Management Guidelines,” April  10, 2015, and \\nsuperseded by a later edition, if published. FTA C 5010.1E  Appendix J- 5 \\n 85. FTA Circular 5100.1, “ Bus and Bus Facilities Program: Guidance and App lication', metadata={'file_name': '5010-1e-circular-award-management-requirements-7-16-18.pdf', 'file_link': 'https://www.transit.dot.gov/regulations-and-guidance/fta-circulars/award-management-requirements-circular-50101e', 'circular_name': 'C 5010.1E Award Management Requirements', 'start_page': 234, 'end_page': 235})]"
      ]
     },
     "execution_count": 16,
     "metadata": {},
     "output_type": "execute_result"
    }
   ],
   "source": [
    "docs_found"
   ]
  },
  {
   "cell_type": "code",
   "execution_count": null,
   "id": "ef0e8a0f-8fd8-45ea-9998-b8898e93e8d1",
   "metadata": {},
   "outputs": [],
   "source": []
  },
  {
   "cell_type": "code",
   "execution_count": null,
   "id": "ac33d8d9-3743-46b0-b55c-8123d4f01d0d",
   "metadata": {},
   "outputs": [],
   "source": []
  },
  {
   "cell_type": "markdown",
   "id": "77deabb0-c3f2-4350-97d5-284a08c9b279",
   "metadata": {},
   "source": [
    "## Encode each page"
   ]
  },
  {
   "cell_type": "code",
   "execution_count": 4,
   "id": "28f6e0e5-2d96-43f9-9abb-070384560fe0",
   "metadata": {},
   "outputs": [
    {
     "data": {
      "application/vnd.jupyter.widget-view+json": {
       "model_id": "0fa0bc7292a647fea657f86d84e7168e",
       "version_major": 2,
       "version_minor": 0
      },
      "text/plain": [
       "  0%|          | 0/18 [00:00<?, ?it/s]"
      ]
     },
     "metadata": {},
     "output_type": "display_data"
    },
    {
     "name": "stdout",
     "output_type": "stream",
     "text": [
      "Loading: pdf\\5010-1e-circular-award-management-requirements-7-16-18.pdf\n",
      "Loading: pdf\\C9070_1G_FINAL_circular_4-20-15(1).pdf\n",
      "Loading: pdf\\eeo-circular-c-47041a.pdf\n",
      "Loading: pdf\\Final_C_9300_1_Bpub.pdf\n",
      "Loading: pdf\\Final_FTA_ADA_Circular_C_4710.1.pdf\n",
      "Loading: pdf\\FINAL_FTA_circular9030.1E.pdf\n",
      "Loading: pdf\\Final_FTA_C_5100_4-16-15.pdf\n",
      "Loading: pdf\\FTA-Third-party-procurement-best-practices-webinar-transcript-12-13-2022.pdf\n",
      "Loading: pdf\\FTA_Circular_5300_published_02-28-15.pdf\n",
      "Loading: pdf\\FTA_Circular_9040_1Gwith_index_-_Final_Revised_-_vm_10-15-14(1).pdf\n",
      "Loading: pdf\\FTA_Cir_6100.1E.docx_4.08.2015_(2)_0.pdf\n",
      "Loading: pdf\\FTA_C_5800.1SSMP.pdf\n",
      "Loading: pdf\\FTA_EJ_Circular_7.14-12_FINAL.pdf\n",
      "Loading: pdf\\FTA_Title_VI_FINAL.pdf\n",
      "Loading: pdf\\Joint-Development-Circular-C-7050-1B.pdf\n",
      "Loading: pdf\\program-guidance-metropolitan-planning-and-state-planning-and-research-c81001d.pdf\n",
      "Loading: pdf\\Third Party Contracting Guidance (Circular 4220.1F).pdf\n",
      "Loading: pdf\\UMTA_C_9500.1.pdf\n",
      "2187\n"
     ]
    }
   ],
   "source": [
    "file_path = glob.glob('pdf/*.pdf')\n",
    "pages = []\n",
    "for file in file_path:\n",
    "    print(f'Loading: {file}')\n",
    "    loader = PyPDFLoader(file)\n",
    "    pages += loader.load_and_split()\n",
    "for page in pages:\n",
    "    page.metadata['source'] = page.metadata['source'].replace('pdf\\\\', '')\n",
    "print(len(pages))"
   ]
  },
  {
   "cell_type": "code",
   "execution_count": 5,
   "id": "a5c4899d-ab43-4716-88a2-bea7c0b88dff",
   "metadata": {},
   "outputs": [
    {
     "data": {
      "text/plain": [
       "{'source': '5010-1e-circular-award-management-requirements-7-16-18.pdf',\n",
       " 'page': 61}"
      ]
     },
     "execution_count": 5,
     "metadata": {},
     "output_type": "execute_result"
    }
   ],
   "source": [
    "pages[56].metadata"
   ]
  },
  {
   "cell_type": "code",
   "execution_count": 12,
   "id": "c55827ef-073b-4c6e-b725-e038b0d960d5",
   "metadata": {},
   "outputs": [],
   "source": [
    "db = FAISS.from_documents(pages, embeddings)"
   ]
  },
  {
   "cell_type": "code",
   "execution_count": 19,
   "id": "c7e0c1fd-ae19-48ac-960f-3bf439ad28f7",
   "metadata": {},
   "outputs": [],
   "source": [
    "db.save_local('data/')"
   ]
  },
  {
   "cell_type": "code",
   "execution_count": 20,
   "id": "e187d331-23cb-44ae-9bb8-81bf98604603",
   "metadata": {},
   "outputs": [],
   "source": [
    "new_db = FAISS.load_local(\"data\", embeddings)"
   ]
  },
  {
   "cell_type": "code",
   "execution_count": 56,
   "id": "f1e353c4-1c09-4344-8c86-363637c5f5fc",
   "metadata": {},
   "outputs": [],
   "source": [
    "query = 'What is Circular 5010.1E?'\n",
    "\n",
    "docs = new_db.similarity_search(query, k=5)"
   ]
  },
  {
   "cell_type": "code",
   "execution_count": 57,
   "id": "d3754da3-bf00-48c3-a0fe-6d7864b12c7c",
   "metadata": {},
   "outputs": [
    {
     "data": {
      "text/plain": [
       "5"
      ]
     },
     "execution_count": 57,
     "metadata": {},
     "output_type": "execute_result"
    }
   ],
   "source": [
    "len(docs)"
   ]
  },
  {
   "cell_type": "code",
   "execution_count": 64,
   "id": "ee148495-a64d-43c2-be64-4dbcd2670daa",
   "metadata": {},
   "outputs": [
    {
     "name": "stdout",
     "output_type": "stream",
     "text": [
      "SOURCE: 5010-1e-circular-award-management-requirements-7-16-18.pdf\n",
      "PAGE: 170\n",
      "CONTENT:\n",
      "FTA C 5010.1E  Appendix A -1 \n",
      " APPENDIX A:   \n",
      " \n",
      "TABLE OF FTA CIRCULARS  \n",
      "Circular  Program  Topic  Title  \n",
      "C 4710.1  Civil Rights  Americans with Disabilities \n",
      "Act: Guidance  \n",
      " C 5100.1  5339  Bus and Bus \n",
      "Facilities Program  Bus and Bus Facilities \n",
      "Program: Guidance and \n",
      "Application Instructions  \n",
      " C 6100.1  5312, \n",
      "5313, \n",
      "5214, \n",
      "5322  Technology \n",
      "Development and \n",
      "Deployment  Research, Technical \n",
      "Assistance and Training \n",
      "Program: Application \n",
      "Instructions and Program \n",
      "Management Guidelines  \n",
      " C 5300.1  5337  State of Good \n",
      "Repair Program  State of Good Repair Grant \n",
      "Program: Guidance and \n",
      "Application Instructions  \n",
      " C 9040.1  5311  Capital Facilities \n",
      "and Formula \n",
      "Grant Program  Formula Grants for Rural \n",
      "Areas: Program Guidance and \n",
      "Application Instructions  \n",
      " C 7050.1    Joint \n",
      "Development  Federal Transit \n",
      "Administration  Guidance on \n",
      "Joint Development  \n",
      " C 9070.1  5310  Capital Facilities \n",
      "and Formula \n",
      "Grant Programs  Enhanced Mobility of Seniors \n",
      "and Individuals with \n",
      "Disabilities Program Guidance \n",
      "and Application Instructions\n",
      "\n",
      "-------------------\n",
      "SOURCE: Final_FTA_C_5100_4-16-15.pdf\n",
      "PAGE: 140\n",
      "CONTENT:\n",
      "FTA C -5100 Appendix E \n",
      "05/18/2015 Page E–5 of 6\n",
      "\n",
      "-------------------\n",
      "SOURCE: 5010-1e-circular-award-management-requirements-7-16-18.pdf\n",
      "PAGE: 40\n",
      "CONTENT:\n",
      "FTA C 5010.1E  Page II -1 \n",
      " \n",
      " \n",
      " \n",
      "CIRCULAR OVERVIEW  \n",
      "1. GENERAL .  This circular provides requirements and procedures for management of all \n",
      "applicable Federal Transit Administration  (FTA) programs authorized under 49 U.S.C. \n",
      "chapter 53.   \n",
      "FTA implements DOT regulations , “Uniform Administrative Requirements, Cost Principles, \n",
      "and Audit Requirements for Federal Awards,” 2 CFR part 1201, which incorporates by \n",
      "reference U.S. Office of Management and B udget  (OMB ) guidance, “Uniform \n",
      "Administrative Requirements, Cost Principles, and Audit Requirements for Federal Awards,” \n",
      "2 CFR part  200, for Award s made on and afte r December 26, 2014, and former 49 CFR \n",
      "parts  18 and 19 for Award s made before December 26, 2014.  Both 2 CFR part 1201 and \n",
      "former 49 CFR part 18 have specific provisions for certain state control of the administration \n",
      "of equipment, procurement, and financi al management.  State requirements apply to those \n",
      "programs that have states as recipients, including 49 U.S.C. §§ 5305, 5310, 5311, former \n",
      "Section 5316, and former Section 5317.  These state requirements also apply to States that \n",
      "receive federal assistance  under other FTA programs for which both state and non- state \n",
      "entities are eligible.  \n",
      "2. APPLICABLE PROGRAM DESCRIPTIONS .  FTA provides formula and discretionary \n",
      "funding  under a variety of programs by awarding federal assistance to  eligible recipients  \n",
      "through a Grant Agreement or Cooperative Agreement.  While this circular contains the post -\n",
      "award guidance for all applicable FTA programs, several of the programs described below \n",
      "have individual program circ ulars that contain pre -award instructions, project management \n",
      "guidance, and unique administrative requirements that apply to the Award .  Additionally, \n",
      "recipients of funding under the Public Transportation Innovation Program (Sections 5312) \n",
      "and the Technical Assistance and Workforce Development Program (Section 5314) should \n",
      "reference the most current edition of FTA Circular 6100 “Research, Technical Assistance \n",
      "and Training Program: Application Instructions and Program Management Guidelines” \n",
      "rather th an this Circular.  \n",
      "If there is a conflict between FTA Circular 5010.1 and program specific circulars, \n",
      "program specific circulars should prevail.  Please reference FTA’s public Web site at \n",
      "www.fta.dot.gov  for a complete  listing of FTA programs and their current FTA \n",
      "circulars.   \n",
      "New and Revised Programs Under MAP -21 or the FAST Act :  \n",
      "a. Metropolitan Planning and Statewide Planning and Research Programs (Section 5305(d) \n",
      "and (e) to implement Section 5303 and Section 5304) .   \n",
      "These programs provide federal assistance to support cooperative, continuous, and \n",
      "comprehensive planning for making transportation investment decisions in metropolitan \n",
      "areas and statewide.\n",
      "\n",
      "-------------------\n",
      "SOURCE: eeo-circular-c-47041a.pdf\n",
      "PAGE: 2\n",
      "CONTENT:\n",
      "FTA C 4704.1A  \n",
      "Table of Contents   \n",
      "FTA CIRCULAR 4704. 1A \n",
      "EQUAL EMPLOYMENT OPPORTUNITY REQUIREMENTS AND GUIDELINES  \n",
      "TABLE OF CONTENTS  \n",
      " \n",
      "CHAPTER 1 – INTRODUC TION AND APPLICABILI TY ................................ ................  1-1 \n",
      " Introduction  ................................ ................................ ................................ .....................  1-1 \n",
      " Organization of this Circular  ................................ ................................ .........................  1-1 \n",
      " Authorities  ................................ ................................ ................................ ........................  1-1 \n",
      " Applicability  ................................ ................................ ................................ .....................  1-3 \n",
      " State -Administered Programs  ................................ ................................ ........................  1-4 \n",
      " Definitions  ................................ ................................ ................................ ........................  1-4 \n",
      "CHAPTER 2 – EEO PROG RAM REQUIREMENTS ................................ ...........................  2-1 \n",
      " Frequency of Update  ................................ ................................ ................................ ....... 2-1 \n",
      " EEO Program Elements  ................................ ................................ ................................ . 2-1 \n",
      " Statement of Policy  ................................ ................................ ................................ . 2-1 \n",
      " Dissemination  ................................ ................................ ................................ .........  2-2 \n",
      " Designation of Personnel Responsibility  ................................ ................................  2-3 \n",
      " Utilization Analysis  ................................ ................................ ................................  2-5 \n",
      " Goals and Timetables  ................................ ................................ ..............................  2-7 \n",
      " Assessment of Employment Practices  ................................ ................................ .... 2-8 \n",
      " Monitoring and Reporting ................................ ................................ .....................  2-11 \n",
      "CHAPTER 3 – EEO COMP LIANCE OVERSIGHT, CO MPLAINTS, AND \n",
      "ENFORCEMENT  ................................ ................................ ................................ ......................  3-1 \n",
      " Compliance Oversight  ................................ ................................ ................................ ..... 3-1 \n",
      " EEO Compliance Review Selection Factors ................................ ...........................  3-1 \n",
      " Scope  ................................ ................................ ................................ .......................  3-2 \n",
      " Compliance Reporting and Follow -up ................................ ................................ .... 3-2 \n",
      " Complaints  ................................ ................................ ................................ .......................  3-2 \n",
      " How to File a Complaint  ................................ ................................ .........................  3-3 \n",
      " EEOC Referral s ................................ ................................ ................................ ...... 3-3 \n",
      " Complaint Acceptance  ................................ ................................ ............................  3-3 \n",
      " Investigations  ................................ ................................ ................................ ..........  3-3 \n",
      " Findings ................................ ................................ ................................ ...................  3-3 \n",
      " Administrative Closure  ................................ ................................ ...........................  3-3\n",
      "\n",
      "-------------------\n",
      "SOURCE: 5010-1e-circular-award-management-requirements-7-16-18.pdf\n",
      "PAGE: 1\n",
      "CONTENT:\n",
      "FTA C 5010.1E  Page ii  \n",
      "These requirements are intended to assist recipients in adm inistering FTA -funded projects \n",
      "and in meeting the responsibilities and reporting requirements of FTA Awards.  Recipients \n",
      "have a responsibility to comply with regulatory requirements and to be aware of all pertinent \n",
      "materials to assist in the management of their federally assisted Awards.   \n",
      "2. CANCELLATION. This circular cancels FTA Circular 5010.1D, “Grant Management \n",
      "Guidelines,” dated 08 -27-2012.   \n",
      "3. AUTHORITY.  \n",
      "a. Federal Transit Laws , codified at 49 U.S.C. chapter 53.   \n",
      "b. 49 CFR § 1.91.   \n",
      "4. WAIVER . FTA reserves the right to waive any provision of this circular to the extent \n",
      "permitted by federal law or regulation.   \n",
      "5. FEDERAL REGISTER NOTICE. In conjunction with publication of this circular, a Federal \n",
      "Register  notice was published on J anuary 13, 2017 .   \n",
      "6. AMENDMENTS TO THE CIRCULAR . FTA reserves the right to update this circular to \n",
      "reflect changes in other revised or new guidance and regulations that undergo notice and \n",
      "comment without further notice and comment on this circular.  FTA will post u pdates on our \n",
      "Web site: www.transit.dot.gov .  The Web site  allows the public to register for notification \n",
      "when FTA issues Federal Register  notices or new guidance.  Visit the Web site and click on \n",
      "“Subscribe to Email Updates.”  \n",
      "7. ACCESSIBLE FORMATS . This document is available in accessible formats upon request.  \n",
      "To obtain paper copies of this circular as well as information regarding these acce ssible \n",
      "formats, telephone FTA’s Administrative Services Help Desk, at 202–366 –4865.  Individuals \n",
      "with hearing impairments may contact the Federal Relay Service  at 1–800–877–8339 for \n",
      "assistance with the call.   \n",
      " \n",
      " \n",
      " \n",
      " \n",
      " \n",
      " /s/ Original Signed By    \n",
      "Carolyn Flowers  \n",
      "Acting Administrator\n",
      "\n",
      "-------------------\n"
     ]
    }
   ],
   "source": [
    "context = ''\n",
    "for doc in docs:\n",
    "    print('SOURCE:', doc.metadata['source'])\n",
    "    print('PAGE:', doc.metadata['page'])\n",
    "    print('CONTENT:')\n",
    "    print(doc.page_content)\n",
    "    print('\\n-------------------')\n",
    "    context += doc.page_content + '\\n'"
   ]
  },
  {
   "cell_type": "code",
   "execution_count": 90,
   "id": "e7783908-c9fb-4107-905f-8dcaa92a98c9",
   "metadata": {},
   "outputs": [
    {
     "name": "stdout",
     "output_type": "stream",
     "text": [
      "Answer the question based only on the following context:\n",
      "###\n",
      "FTA C 5010.1E  Appendix A -1 \n",
      " APPENDIX A:   \n",
      " \n",
      "TABLE OF FTA CIRCULARS  \n",
      "Circular  Program  Topic  Title  \n",
      "C 4710.1  Civil Rights  Americans with Disabilities \n",
      "Act: Guidance  \n",
      " C 5100.1  5339  Bus and Bus \n",
      "Facilities Program  Bus and Bus Facilities \n",
      "Program: Guidance and \n",
      "Application Instructions  \n",
      " C 6100.1  5312, \n",
      "5313, \n",
      "5214, \n",
      "5322  Technology \n",
      "Development and \n",
      "Deployment  Research, Technical \n",
      "Assistance and Training \n",
      "Program: Application \n",
      "Instructions and Program \n",
      "Management Guidelines  \n",
      " C 5300.1  5337  State of Good \n",
      "Repair Program  State of Good Repair Grant \n",
      "Program: Guidance and \n",
      "Application Instructions  \n",
      " C 9040.1  5311  Capital Facilities \n",
      "and Formula \n",
      "Grant Program  Formula Grants for Rural \n",
      "Areas: Program Guidance and \n",
      "Application Instructions  \n",
      " C 7050.1    Joint \n",
      "Development  Federal Transit \n",
      "Administration  Guidance on \n",
      "Joint Development  \n",
      " C 9070.1  5310  Capital Facilities \n",
      "and Formula \n",
      "Grant Programs  Enhanced Mobility of Seniors \n",
      "and Individuals with \n",
      "Disabilities Program Guidance \n",
      "and Application Instructions/nFTA C -5100 Appendix E \n",
      "05/18/2015 Page E–5 of 6/nFTA C 5010.1E  Page II -1 \n",
      " \n",
      " \n",
      " \n",
      "CIRCULAR OVERVIEW  \n",
      "1. GENERAL .  This circular provides requirements and procedures for management of all \n",
      "applicable Federal Transit Administration  (FTA) programs authorized under 49 U.S.C. \n",
      "chapter 53.   \n",
      "FTA implements DOT regulations , “Uniform Administrative Requirements, Cost Principles, \n",
      "and Audit Requirements for Federal Awards,” 2 CFR part 1201, which incorporates by \n",
      "reference U.S. Office of Management and B udget  (OMB ) guidance, “Uniform \n",
      "Administrative Requirements, Cost Principles, and Audit Requirements for Federal Awards,” \n",
      "2 CFR part  200, for Award s made on and afte r December 26, 2014, and former 49 CFR \n",
      "parts  18 and 19 for Award s made before December 26, 2014.  Both 2 CFR part 1201 and \n",
      "former 49 CFR part 18 have specific provisions for certain state control of the administration \n",
      "of equipment, procurement, and financi al management.  State requirements apply to those \n",
      "programs that have states as recipients, including 49 U.S.C. §§ 5305, 5310, 5311, former \n",
      "Section 5316, and former Section 5317.  These state requirements also apply to States that \n",
      "receive federal assistance  under other FTA programs for which both state and non- state \n",
      "entities are eligible.  \n",
      "2. APPLICABLE PROGRAM DESCRIPTIONS .  FTA provides formula and discretionary \n",
      "funding  under a variety of programs by awarding federal assistance to  eligible recipients  \n",
      "through a Grant Agreement or Cooperative Agreement.  While this circular contains the post -\n",
      "award guidance for all applicable FTA programs, several of the programs described below \n",
      "have individual program circ ulars that contain pre -award instructions, project management \n",
      "guidance, and unique administrative requirements that apply to the Award .  Additionally, \n",
      "recipients of funding under the Public Transportation Innovation Program (Sections 5312) \n",
      "and the Technical Assistance and Workforce Development Program (Section 5314) should \n",
      "reference the most current edition of FTA Circular 6100 “Research, Technical Assistance \n",
      "and Training Program: Application Instructions and Program Management Guidelines” \n",
      "rather th an this Circular.  \n",
      "If there is a conflict between FTA Circular 5010.1 and program specific circulars, \n",
      "program specific circulars should prevail.  Please reference FTA’s public Web site at \n",
      "www.fta.dot.gov  for a complete  listing of FTA programs and their current FTA \n",
      "circulars.   \n",
      "New and Revised Programs Under MAP -21 or the FAST Act :  \n",
      "a. Metropolitan Planning and Statewide Planning and Research Programs (Section 5305(d) \n",
      "and (e) to implement Section 5303 and Section 5304) .   \n",
      "These programs provide federal assistance to support cooperative, continuous, and \n",
      "comprehensive planning for making transportation investment decisions in metropolitan \n",
      "areas and statewide./nFTA C 4704.1A  \n",
      "Table of Contents   \n",
      "FTA CIRCULAR 4704. 1A \n",
      "EQUAL EMPLOYMENT OPPORTUNITY REQUIREMENTS AND GUIDELINES  \n",
      "TABLE OF CONTENTS  \n",
      " \n",
      "CHAPTER 1 – INTRODUC TION AND APPLICABILI TY ................................ ................  1-1 \n",
      " Introduction  ................................ ................................ ................................ .....................  1-1 \n",
      " Organization of this Circular  ................................ ................................ .........................  1-1 \n",
      " Authorities  ................................ ................................ ................................ ........................  1-1 \n",
      " Applicability  ................................ ................................ ................................ .....................  1-3 \n",
      " State -Administered Programs  ................................ ................................ ........................  1-4 \n",
      " Definitions  ................................ ................................ ................................ ........................  1-4 \n",
      "CHAPTER 2 – EEO PROG RAM REQUIREMENTS ................................ ...........................  2-1 \n",
      " Frequency of Update  ................................ ................................ ................................ ....... 2-1 \n",
      " EEO Program Elements  ................................ ................................ ................................ . 2-1 \n",
      " Statement of Policy  ................................ ................................ ................................ . 2-1 \n",
      " Dissemination  ................................ ................................ ................................ .........  2-2 \n",
      " Designation of Personnel Responsibility  ................................ ................................  2-3 \n",
      " Utilization Analysis  ................................ ................................ ................................  2-5 \n",
      " Goals and Timetables  ................................ ................................ ..............................  2-7 \n",
      " Assessment of Employment Practices  ................................ ................................ .... 2-8 \n",
      " Monitoring and Reporting ................................ ................................ .....................  2-11 \n",
      "CHAPTER 3 – EEO COMP LIANCE OVERSIGHT, CO MPLAINTS, AND \n",
      "ENFORCEMENT  ................................ ................................ ................................ ......................  3-1 \n",
      " Compliance Oversight  ................................ ................................ ................................ ..... 3-1 \n",
      " EEO Compliance Review Selection Factors ................................ ...........................  3-1 \n",
      " Scope  ................................ ................................ ................................ .......................  3-2 \n",
      " Compliance Reporting and Follow -up ................................ ................................ .... 3-2 \n",
      " Complaints  ................................ ................................ ................................ .......................  3-2 \n",
      " How to File a Complaint  ................................ ................................ .........................  3-3 \n",
      " EEOC Referral s ................................ ................................ ................................ ...... 3-3 \n",
      " Complaint Acceptance  ................................ ................................ ............................  3-3 \n",
      " Investigations  ................................ ................................ ................................ ..........  3-3 \n",
      " Findings ................................ ................................ ................................ ...................  3-3 \n",
      " Administrative Closure  ................................ ................................ ...........................  3-3/nFTA C 5010.1E  Page ii  \n",
      "These requirements are intended to assist recipients in adm inistering FTA -funded projects \n",
      "and in meeting the responsibilities and reporting requirements of FTA Awards.  Recipients \n",
      "have a responsibility to comply with regulatory requirements and to be aware of all pertinent \n",
      "materials to assist in the management of their federally assisted Awards.   \n",
      "2. CANCELLATION. This circular cancels FTA Circular 5010.1D, “Grant Management \n",
      "Guidelines,” dated 08 -27-2012.   \n",
      "3. AUTHORITY.  \n",
      "a. Federal Transit Laws , codified at 49 U.S.C. chapter 53.   \n",
      "b. 49 CFR § 1.91.   \n",
      "4. WAIVER . FTA reserves the right to waive any provision of this circular to the extent \n",
      "permitted by federal law or regulation.   \n",
      "5. FEDERAL REGISTER NOTICE. In conjunction with publication of this circular, a Federal \n",
      "Register  notice was published on J anuary 13, 2017 .   \n",
      "6. AMENDMENTS TO THE CIRCULAR . FTA reserves the right to update this circular to \n",
      "reflect changes in other revised or new guidance and regulations that undergo notice and \n",
      "comment without further notice and comment on this circular.  FTA will post u pdates on our \n",
      "Web site: www.transit.dot.gov .  The Web site  allows the public to register for notification \n",
      "when FTA issues Federal Register  notices or new guidance.  Visit the Web site and click on \n",
      "“Subscribe to Email Updates.”  \n",
      "7. ACCESSIBLE FORMATS . This document is available in accessible formats upon request.  \n",
      "To obtain paper copies of this circular as well as information regarding these acce ssible \n",
      "formats, telephone FTA’s Administrative Services Help Desk, at 202–366 –4865.  Individuals \n",
      "with hearing impairments may contact the Federal Relay Service  at 1–800–877–8339 for \n",
      "assistance with the call.   \n",
      " \n",
      " \n",
      " \n",
      " \n",
      " \n",
      " /s/ Original Signed By    \n",
      "Carolyn Flowers  \n",
      "Acting Administrator\n",
      "###\n",
      "Question: What is Circular 5010.1E?\n",
      "Answer: \n"
     ]
    }
   ],
   "source": [
    "template = \"Answer the question based only on the following context:\\n###\\n{context}\\n###\\nQuestion: {query}\\nAnswer:\"\n",
    "prompt_template = PromptTemplate.from_template(template)\n",
    "prompt = prompt_template.format(context=context, query=query)\n",
    "print(prompt)"
   ]
  },
  {
   "cell_type": "code",
   "execution_count": 91,
   "id": "20d82295-726c-4e75-9cc5-12464c4f1606",
   "metadata": {},
   "outputs": [
    {
     "data": {
      "text/plain": [
       "{0: ['5010-1e-circular-award-management-requirements-7-16-18.pdf', 170],\n",
       " 1: ['Final_FTA_C_5100_4-16-15.pdf', 140],\n",
       " 2: ['5010-1e-circular-award-management-requirements-7-16-18.pdf', 40],\n",
       " 3: ['eeo-circular-c-47041a.pdf', 2],\n",
       " 4: ['5010-1e-circular-award-management-requirements-7-16-18.pdf', 1]}"
      ]
     },
     "execution_count": 91,
     "metadata": {},
     "output_type": "execute_result"
    }
   ],
   "source": [
    "source = {idx: [doc.metadata['source'], doc.metadata['page']] for idx, doc in enumerate(docs)}\n",
    "source"
   ]
  },
  {
   "cell_type": "code",
   "execution_count": 92,
   "id": "8161ebd7-100f-45f6-bc29-499b4d44ddbe",
   "metadata": {},
   "outputs": [],
   "source": [
    "llm = OpenAI(temperature=0.7)"
   ]
  },
  {
   "cell_type": "code",
   "execution_count": 93,
   "id": "3ecbe0b7-48c2-4052-a838-1780b807cff8",
   "metadata": {},
   "outputs": [],
   "source": [
    "response = llm(prompt)"
   ]
  },
  {
   "cell_type": "code",
   "execution_count": 94,
   "id": "e571eedc-09ce-4126-a01a-503687e82309",
   "metadata": {},
   "outputs": [
    {
     "name": "stdout",
     "output_type": "stream",
     "text": [
      " Circular 5010.1E is a document that provides requirements and procedures for management of all applicable Federal Transit Administration (FTA) programs authorized under 49 U.S.C. chapter 53. It includes post-award guidance for all applicable FTA programs, as well as instructions for the Public Transportation Innovation Program (Sections 5312) and the Technical Assistance and Workforce Development Program (Section 5314).\n"
     ]
    }
   ],
   "source": [
    "print(response)"
   ]
  },
  {
   "cell_type": "code",
   "execution_count": 100,
   "id": "9e8f3513-86f2-4796-8ff2-85c720ff2b54",
   "metadata": {},
   "outputs": [
    {
     "name": "stdout",
     "output_type": "stream",
     "text": [
      "I don't know.    what\n",
      "    \n"
     ]
    }
   ],
   "source": [
    "if True:\n",
    "    message = f\"\"\"I don't know.\n",
    "    what\n",
    "    \"\"\"\n",
    "\n",
    "print(message)"
   ]
  },
  {
   "cell_type": "code",
   "execution_count": 103,
   "id": "dbee8d9b-e018-40b3-b42b-79fd2c44c9db",
   "metadata": {},
   "outputs": [
    {
     "data": {
      "text/plain": [
       "'5010-1e-circular-award-management-requirements-7-16-18.pdf'"
      ]
     },
     "execution_count": 103,
     "metadata": {},
     "output_type": "execute_result"
    }
   ],
   "source": [
    "docs[0].metadata['source']"
   ]
  },
  {
   "cell_type": "code",
   "execution_count": null,
   "id": "9500da73-52b6-4081-b7a3-0aa2527d77fb",
   "metadata": {},
   "outputs": [],
   "source": []
  }
 ],
 "metadata": {
  "kernelspec": {
   "display_name": "Python 3 (ipykernel)",
   "language": "python",
   "name": "python3"
  },
  "language_info": {
   "codemirror_mode": {
    "name": "ipython",
    "version": 3
   },
   "file_extension": ".py",
   "mimetype": "text/x-python",
   "name": "python",
   "nbconvert_exporter": "python",
   "pygments_lexer": "ipython3",
   "version": "3.11.7"
  }
 },
 "nbformat": 4,
 "nbformat_minor": 5
}
